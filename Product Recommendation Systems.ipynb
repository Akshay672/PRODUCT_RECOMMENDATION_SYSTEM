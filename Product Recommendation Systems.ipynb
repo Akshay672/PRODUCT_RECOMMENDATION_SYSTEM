{
 "cells": [
  {
   "cell_type": "markdown",
   "metadata": {},
   "source": [
    "# Product Recommendation Systems"
   ]
  },
  {
   "cell_type": "markdown",
   "metadata": {},
   "source": [
    "### Domain - E-commerce "
   ]
  },
  {
   "cell_type": "markdown",
   "metadata": {},
   "source": [
    "### Context :\n",
    "\n",
    "Everyday a million products are being recommended to users based on popularity and other metrics on e-commerce websites. The most popular e-commerce website boosts average order value by 50%, increases revenues by 300%, and improves conversion. In addition to being a powerful tool for increasing revenues, product recommendations are so essential that customers now expect to see similar features on all other e-commerce sites."
   ]
  },
  {
   "cell_type": "markdown",
   "metadata": {},
   "source": [
    "### Data Description -\n",
    "Data columns-  First three columns are userId, productId, and ratings and the fourth column is timestamp. You can discard the timestamp column as in this case you may not need to use it.\n"
   ]
  },
  {
   "cell_type": "markdown",
   "metadata": {},
   "source": [
    "#### Source - Amazon Reviews data (http://jmcauley.ucsd.edu/data/amazon/) The repository has several datasets. For this case study, we are using the Electronics dataset"
   ]
  },
  {
   "cell_type": "code",
   "execution_count": 1,
   "metadata": {},
   "outputs": [],
   "source": [
    "#Recommendation Systems"
   ]
  },
  {
   "cell_type": "code",
   "execution_count": 2,
   "metadata": {},
   "outputs": [],
   "source": [
    "#Recommender systems aim to predict users’ interests and recommend product items that quite likely are interesting for them.\n",
    "\n",
    "#Recommendation system will help businesses improve their shopper's,user experience or on website,youtub,amazon and result in better customer acquisition and retention."
   ]
  },
  {
   "cell_type": "code",
   "execution_count": 3,
   "metadata": {},
   "outputs": [],
   "source": [
    "#Types of recommendation system"
   ]
  },
  {
   "cell_type": "code",
   "execution_count": 4,
   "metadata": {},
   "outputs": [],
   "source": [
    "#There are majorly six types of recommender systems which work primarily in the Media and Entertainment industry::\n",
    "\n",
    "#1. Popularity based recommendation system\n",
    "#2. Content-based recommendation system\n",
    "#3. Collaborative recommendation system\n",
    "#4. Matrix factorization recommendation system\n",
    "#5. Association Rule\n",
    "#6. Hybrid-recommendation system"
   ]
  },
  {
   "cell_type": "code",
   "execution_count": 5,
   "metadata": {},
   "outputs": [],
   "source": [
    "#Importing Libraries"
   ]
  },
  {
   "cell_type": "code",
   "execution_count": 6,
   "metadata": {},
   "outputs": [],
   "source": [
    "import pandas as pd\n",
    "import numpy as np\n",
    "import matplotlib.pyplot as plt\n",
    "import seaborn as sns"
   ]
  },
  {
   "cell_type": "code",
   "execution_count": 7,
   "metadata": {},
   "outputs": [],
   "source": [
    "#1. Popularity based recommendation system"
   ]
  },
  {
   "cell_type": "code",
   "execution_count": 8,
   "metadata": {},
   "outputs": [],
   "source": [
    "#This model is not actually personalized - it simply recommends to a user the most popular items that the user has not previously consumed \n",
    "#i.e. even though you know the behaviour of the user you cannot recommend items accordingly."
   ]
  },
  {
   "cell_type": "code",
   "execution_count": 9,
   "metadata": {},
   "outputs": [
    {
     "data": {
      "text/html": [
       "<div>\n",
       "<style scoped>\n",
       "    .dataframe tbody tr th:only-of-type {\n",
       "        vertical-align: middle;\n",
       "    }\n",
       "\n",
       "    .dataframe tbody tr th {\n",
       "        vertical-align: top;\n",
       "    }\n",
       "\n",
       "    .dataframe thead th {\n",
       "        text-align: right;\n",
       "    }\n",
       "</style>\n",
       "<table border=\"1\" class=\"dataframe\">\n",
       "  <thead>\n",
       "    <tr style=\"text-align: right;\">\n",
       "      <th></th>\n",
       "      <th>userId</th>\n",
       "      <th>productId</th>\n",
       "      <th>ratings</th>\n",
       "      <th>timestamp</th>\n",
       "      <th>genre1</th>\n",
       "      <th>genre2</th>\n",
       "      <th>genre3</th>\n",
       "    </tr>\n",
       "  </thead>\n",
       "  <tbody>\n",
       "    <tr>\n",
       "      <th>0</th>\n",
       "      <td>A2CX7LUOHB2NDG</td>\n",
       "      <td>321732944</td>\n",
       "      <td>5</td>\n",
       "      <td>1341100800</td>\n",
       "      <td>freezers</td>\n",
       "      <td>dishwashers</td>\n",
       "      <td>video game consoles</td>\n",
       "    </tr>\n",
       "    <tr>\n",
       "      <th>1</th>\n",
       "      <td>A2NWSAGRHCP8N5</td>\n",
       "      <td>439886341</td>\n",
       "      <td>1</td>\n",
       "      <td>1367193600</td>\n",
       "      <td>still cameras</td>\n",
       "      <td>freezers</td>\n",
       "      <td>home electronics</td>\n",
       "    </tr>\n",
       "    <tr>\n",
       "      <th>2</th>\n",
       "      <td>A2WNBOD3WNDNKT</td>\n",
       "      <td>439886341</td>\n",
       "      <td>3</td>\n",
       "      <td>1374451200</td>\n",
       "      <td>CD</td>\n",
       "      <td>computers</td>\n",
       "      <td>coffee grinders</td>\n",
       "    </tr>\n",
       "    <tr>\n",
       "      <th>3</th>\n",
       "      <td>A1GI0U4ZRJA8WN</td>\n",
       "      <td>439886341</td>\n",
       "      <td>1</td>\n",
       "      <td>1334707200</td>\n",
       "      <td>dough blenders</td>\n",
       "      <td>induction cookers</td>\n",
       "      <td>answering machines</td>\n",
       "    </tr>\n",
       "    <tr>\n",
       "      <th>4</th>\n",
       "      <td>A1QGNMC6O1VW39</td>\n",
       "      <td>511189877</td>\n",
       "      <td>5</td>\n",
       "      <td>1397433600</td>\n",
       "      <td>HiFi</td>\n",
       "      <td>induction cookers</td>\n",
       "      <td>electric kettles</td>\n",
       "    </tr>\n",
       "  </tbody>\n",
       "</table>\n",
       "</div>"
      ],
      "text/plain": [
       "           userId  productId  ratings   timestamp          genre1  \\\n",
       "0  A2CX7LUOHB2NDG  321732944        5  1341100800        freezers   \n",
       "1  A2NWSAGRHCP8N5  439886341        1  1367193600   still cameras   \n",
       "2  A2WNBOD3WNDNKT  439886341        3  1374451200              CD   \n",
       "3  A1GI0U4ZRJA8WN  439886341        1  1334707200  dough blenders   \n",
       "4  A1QGNMC6O1VW39  511189877        5  1397433600            HiFi   \n",
       "\n",
       "              genre2               genre3  \n",
       "0        dishwashers  video game consoles  \n",
       "1           freezers     home electronics  \n",
       "2          computers      coffee grinders  \n",
       "3  induction cookers   answering machines  \n",
       "4  induction cookers     electric kettles  "
      ]
     },
     "execution_count": 9,
     "metadata": {},
     "output_type": "execute_result"
    }
   ],
   "source": [
    "df=pd.read_csv('D:\\\\M. Tech in Data Science & Machine Learning\\\\Machine Learning 3\\\\Sem_Preparation\\\\ratings_Electronics.csv')\n",
    "df.head()"
   ]
  },
  {
   "cell_type": "code",
   "execution_count": 10,
   "metadata": {},
   "outputs": [
    {
     "data": {
      "text/plain": [
       "(1048575, 7)"
      ]
     },
     "execution_count": 10,
     "metadata": {},
     "output_type": "execute_result"
    }
   ],
   "source": [
    "df.shape"
   ]
  },
  {
   "cell_type": "code",
   "execution_count": 11,
   "metadata": {},
   "outputs": [],
   "source": [
    "df=df.sample(2000)"
   ]
  },
  {
   "cell_type": "code",
   "execution_count": 12,
   "metadata": {},
   "outputs": [
    {
     "data": {
      "text/html": [
       "<div>\n",
       "<style scoped>\n",
       "    .dataframe tbody tr th:only-of-type {\n",
       "        vertical-align: middle;\n",
       "    }\n",
       "\n",
       "    .dataframe tbody tr th {\n",
       "        vertical-align: top;\n",
       "    }\n",
       "\n",
       "    .dataframe thead th {\n",
       "        text-align: right;\n",
       "    }\n",
       "</style>\n",
       "<table border=\"1\" class=\"dataframe\">\n",
       "  <thead>\n",
       "    <tr style=\"text-align: right;\">\n",
       "      <th></th>\n",
       "      <th>userId</th>\n",
       "      <th>productId</th>\n",
       "      <th>ratings</th>\n",
       "      <th>genre1</th>\n",
       "      <th>genre2</th>\n",
       "      <th>genre3</th>\n",
       "    </tr>\n",
       "  </thead>\n",
       "  <tbody>\n",
       "    <tr>\n",
       "      <th>656548</th>\n",
       "      <td>A2C27RKPEMJ29J</td>\n",
       "      <td>B00097CUIE</td>\n",
       "      <td>5</td>\n",
       "      <td>waffle irons</td>\n",
       "      <td>exhaust hoods</td>\n",
       "      <td>water heaters</td>\n",
       "    </tr>\n",
       "    <tr>\n",
       "      <th>505738</th>\n",
       "      <td>A2D0O0M2L67ZMR</td>\n",
       "      <td>B0002SQ2P2</td>\n",
       "      <td>5</td>\n",
       "      <td>electric mixers</td>\n",
       "      <td>camcorders</td>\n",
       "      <td>air conditioners</td>\n",
       "    </tr>\n",
       "    <tr>\n",
       "      <th>66360</th>\n",
       "      <td>A2NBV5BCYQWNNZ</td>\n",
       "      <td>B00004Z5M1</td>\n",
       "      <td>4</td>\n",
       "      <td>induction cookers</td>\n",
       "      <td>clocks, alarm clocks</td>\n",
       "      <td>herb grinders</td>\n",
       "    </tr>\n",
       "    <tr>\n",
       "      <th>420045</th>\n",
       "      <td>A34LA8EKXE9JXA</td>\n",
       "      <td>B00021MX3E</td>\n",
       "      <td>5</td>\n",
       "      <td>electric kettles</td>\n",
       "      <td>clothes dryers</td>\n",
       "      <td>washing machines</td>\n",
       "    </tr>\n",
       "    <tr>\n",
       "      <th>368541</th>\n",
       "      <td>A2SPQFPOVGF2P3</td>\n",
       "      <td>B00016V3VI</td>\n",
       "      <td>5</td>\n",
       "      <td>trash compactors</td>\n",
       "      <td>DVD players</td>\n",
       "      <td>coffee grinders</td>\n",
       "    </tr>\n",
       "  </tbody>\n",
       "</table>\n",
       "</div>"
      ],
      "text/plain": [
       "                userId   productId  ratings             genre1  \\\n",
       "656548  A2C27RKPEMJ29J  B00097CUIE        5       waffle irons   \n",
       "505738  A2D0O0M2L67ZMR  B0002SQ2P2        5    electric mixers   \n",
       "66360   A2NBV5BCYQWNNZ  B00004Z5M1        4  induction cookers   \n",
       "420045  A34LA8EKXE9JXA  B00021MX3E        5   electric kettles   \n",
       "368541  A2SPQFPOVGF2P3  B00016V3VI        5   trash compactors   \n",
       "\n",
       "                      genre2            genre3  \n",
       "656548         exhaust hoods     water heaters  \n",
       "505738            camcorders  air conditioners  \n",
       "66360   clocks, alarm clocks     herb grinders  \n",
       "420045        clothes dryers  washing machines  \n",
       "368541           DVD players   coffee grinders  "
      ]
     },
     "execution_count": 12,
     "metadata": {},
     "output_type": "execute_result"
    }
   ],
   "source": [
    "df1=df.drop('timestamp',axis=1)\n",
    "df1.head()"
   ]
  },
  {
   "cell_type": "code",
   "execution_count": 13,
   "metadata": {},
   "outputs": [
    {
     "data": {
      "text/plain": [
       "userId       0\n",
       "productId    0\n",
       "ratings      0\n",
       "genre1       0\n",
       "genre2       0\n",
       "genre3       0\n",
       "dtype: int64"
      ]
     },
     "execution_count": 13,
     "metadata": {},
     "output_type": "execute_result"
    }
   ],
   "source": [
    "df1.isnull().sum()"
   ]
  },
  {
   "cell_type": "code",
   "execution_count": 14,
   "metadata": {},
   "outputs": [
    {
     "data": {
      "image/png": "[encoded data removed]",
      "text/plain": [
       "<Figure size 432x288 with 1 Axes>"
      ]
     },
     "metadata": {
      "needs_background": "light"
     },
     "output_type": "display_data"
    }
   ],
   "source": [
    "sns.histplot(df1['ratings'])\n",
    "plt.show()"
   ]
  },
  {
   "cell_type": "code",
   "execution_count": 15,
   "metadata": {},
   "outputs": [],
   "source": [
    " #Check the top 10 users based on ratings"
   ]
  },
  {
   "cell_type": "code",
   "execution_count": 16,
   "metadata": {},
   "outputs": [
    {
     "data": {
      "text/plain": [
       "userId\n",
       "AA797LFUG2ZGS            2\n",
       "A1IG1I6MR3HAWA           2\n",
       "A07313811DMS8UJYE7X67    1\n",
       "A3J8P2MVDW60LM           1\n",
       "A3K3P4SKG4Q1KB           1\n",
       "A3K1I6YCZ4IFQJ           1\n",
       "A3JVCAQ7Z1OWDN           1\n",
       "A3JUJRN2J800KC           1\n",
       "A3JSZD07PG38I8           1\n",
       "A3JL1QTGHD12JC           1\n",
       "Name: ratings, dtype: int64"
      ]
     },
     "execution_count": 16,
     "metadata": {},
     "output_type": "execute_result"
    }
   ],
   "source": [
    "data1=df1.groupby('userId')['ratings'].agg('count').sort_values(ascending=False)\n",
    "data1.head(10)"
   ]
  },
  {
   "cell_type": "code",
   "execution_count": 24,
   "metadata": {},
   "outputs": [],
   "source": [
    "#2. Content Based Recommendation."
   ]
  },
  {
   "cell_type": "code",
   "execution_count": 25,
   "metadata": {},
   "outputs": [],
   "source": [
    "#This method uses only information about the description and attributes of the items users has previously consumed to model user's preferences. \n",
    "#In other words, these algorithms try to recommend items that are similar to those that a user liked in the past (or is examining in the present).\n",
    "#In particular, various candidate items are compared with items previously rated by the user and the best-matching items are recommended.."
   ]
  },
  {
   "cell_type": "code",
   "execution_count": 26,
   "metadata": {},
   "outputs": [
    {
     "data": {
      "text/html": [
       "<div>\n",
       "<style scoped>\n",
       "    .dataframe tbody tr th:only-of-type {\n",
       "        vertical-align: middle;\n",
       "    }\n",
       "\n",
       "    .dataframe tbody tr th {\n",
       "        vertical-align: top;\n",
       "    }\n",
       "\n",
       "    .dataframe thead th {\n",
       "        text-align: right;\n",
       "    }\n",
       "</style>\n",
       "<table border=\"1\" class=\"dataframe\">\n",
       "  <thead>\n",
       "    <tr style=\"text-align: right;\">\n",
       "      <th></th>\n",
       "      <th>userId</th>\n",
       "      <th>productId</th>\n",
       "      <th>ratings</th>\n",
       "      <th>genre1</th>\n",
       "      <th>genre2</th>\n",
       "      <th>genre3</th>\n",
       "    </tr>\n",
       "  </thead>\n",
       "  <tbody>\n",
       "    <tr>\n",
       "      <th>656548</th>\n",
       "      <td>A2C27RKPEMJ29J</td>\n",
       "      <td>B00097CUIE</td>\n",
       "      <td>5</td>\n",
       "      <td>waffle irons</td>\n",
       "      <td>exhaust hoods</td>\n",
       "      <td>water heaters</td>\n",
       "    </tr>\n",
       "    <tr>\n",
       "      <th>505738</th>\n",
       "      <td>A2D0O0M2L67ZMR</td>\n",
       "      <td>B0002SQ2P2</td>\n",
       "      <td>5</td>\n",
       "      <td>electric mixers</td>\n",
       "      <td>camcorders</td>\n",
       "      <td>air conditioners</td>\n",
       "    </tr>\n",
       "    <tr>\n",
       "      <th>66360</th>\n",
       "      <td>A2NBV5BCYQWNNZ</td>\n",
       "      <td>B00004Z5M1</td>\n",
       "      <td>4</td>\n",
       "      <td>induction cookers</td>\n",
       "      <td>clocks, alarm clocks</td>\n",
       "      <td>herb grinders</td>\n",
       "    </tr>\n",
       "    <tr>\n",
       "      <th>420045</th>\n",
       "      <td>A34LA8EKXE9JXA</td>\n",
       "      <td>B00021MX3E</td>\n",
       "      <td>5</td>\n",
       "      <td>electric kettles</td>\n",
       "      <td>clothes dryers</td>\n",
       "      <td>washing machines</td>\n",
       "    </tr>\n",
       "    <tr>\n",
       "      <th>368541</th>\n",
       "      <td>A2SPQFPOVGF2P3</td>\n",
       "      <td>B00016V3VI</td>\n",
       "      <td>5</td>\n",
       "      <td>trash compactors</td>\n",
       "      <td>DVD players</td>\n",
       "      <td>coffee grinders</td>\n",
       "    </tr>\n",
       "  </tbody>\n",
       "</table>\n",
       "</div>"
      ],
      "text/plain": [
       "                userId   productId  ratings             genre1  \\\n",
       "656548  A2C27RKPEMJ29J  B00097CUIE        5       waffle irons   \n",
       "505738  A2D0O0M2L67ZMR  B0002SQ2P2        5    electric mixers   \n",
       "66360   A2NBV5BCYQWNNZ  B00004Z5M1        4  induction cookers   \n",
       "420045  A34LA8EKXE9JXA  B00021MX3E        5   electric kettles   \n",
       "368541  A2SPQFPOVGF2P3  B00016V3VI        5   trash compactors   \n",
       "\n",
       "                      genre2            genre3  \n",
       "656548         exhaust hoods     water heaters  \n",
       "505738            camcorders  air conditioners  \n",
       "66360   clocks, alarm clocks     herb grinders  \n",
       "420045        clothes dryers  washing machines  \n",
       "368541           DVD players   coffee grinders  "
      ]
     },
     "execution_count": 26,
     "metadata": {},
     "output_type": "execute_result"
    }
   ],
   "source": [
    "df1.head()"
   ]
  },
  {
   "cell_type": "code",
   "execution_count": 29,
   "metadata": {},
   "outputs": [
    {
     "data": {
      "text/html": [
       "<div>\n",
       "<style scoped>\n",
       "    .dataframe tbody tr th:only-of-type {\n",
       "        vertical-align: middle;\n",
       "    }\n",
       "\n",
       "    .dataframe tbody tr th {\n",
       "        vertical-align: top;\n",
       "    }\n",
       "\n",
       "    .dataframe thead th {\n",
       "        text-align: right;\n",
       "    }\n",
       "</style>\n",
       "<table border=\"1\" class=\"dataframe\">\n",
       "  <thead>\n",
       "    <tr style=\"text-align: right;\">\n",
       "      <th></th>\n",
       "      <th>genre1</th>\n",
       "      <th>genre2</th>\n",
       "      <th>genre3</th>\n",
       "    </tr>\n",
       "  </thead>\n",
       "  <tbody>\n",
       "    <tr>\n",
       "      <th>656548</th>\n",
       "      <td>waffle irons</td>\n",
       "      <td>exhaust hoods</td>\n",
       "      <td>water heaters</td>\n",
       "    </tr>\n",
       "    <tr>\n",
       "      <th>505738</th>\n",
       "      <td>electric mixers</td>\n",
       "      <td>camcorders</td>\n",
       "      <td>air conditioners</td>\n",
       "    </tr>\n",
       "    <tr>\n",
       "      <th>66360</th>\n",
       "      <td>induction cookers</td>\n",
       "      <td>clocks, alarm clocks</td>\n",
       "      <td>herb grinders</td>\n",
       "    </tr>\n",
       "    <tr>\n",
       "      <th>420045</th>\n",
       "      <td>electric kettles</td>\n",
       "      <td>clothes dryers</td>\n",
       "      <td>washing machines</td>\n",
       "    </tr>\n",
       "    <tr>\n",
       "      <th>368541</th>\n",
       "      <td>trash compactors</td>\n",
       "      <td>DVD players</td>\n",
       "      <td>coffee grinders</td>\n",
       "    </tr>\n",
       "  </tbody>\n",
       "</table>\n",
       "</div>"
      ],
      "text/plain": [
       "                   genre1                genre2            genre3\n",
       "656548       waffle irons         exhaust hoods     water heaters\n",
       "505738    electric mixers            camcorders  air conditioners\n",
       "66360   induction cookers  clocks, alarm clocks     herb grinders\n",
       "420045   electric kettles        clothes dryers  washing machines\n",
       "368541   trash compactors           DVD players   coffee grinders"
      ]
     },
     "execution_count": 29,
     "metadata": {},
     "output_type": "execute_result"
    }
   ],
   "source": [
    "data2=df1[['genre1','genre2','genre3']]\n",
    "data2.head()"
   ]
  },
  {
   "cell_type": "code",
   "execution_count": 30,
   "metadata": {},
   "outputs": [
    {
     "data": {
      "text/html": [
       "<div>\n",
       "<style scoped>\n",
       "    .dataframe tbody tr th:only-of-type {\n",
       "        vertical-align: middle;\n",
       "    }\n",
       "\n",
       "    .dataframe tbody tr th {\n",
       "        vertical-align: top;\n",
       "    }\n",
       "\n",
       "    .dataframe thead th {\n",
       "        text-align: right;\n",
       "    }\n",
       "</style>\n",
       "<table border=\"1\" class=\"dataframe\">\n",
       "  <thead>\n",
       "    <tr style=\"text-align: right;\">\n",
       "      <th></th>\n",
       "      <th>genre1_CD</th>\n",
       "      <th>genre1_DVD players</th>\n",
       "      <th>genre1_HiFi</th>\n",
       "      <th>genre1_TV sets</th>\n",
       "      <th>genre1_air conditioners</th>\n",
       "      <th>genre1_answering machines</th>\n",
       "      <th>genre1_blenders</th>\n",
       "      <th>genre1_camcorders</th>\n",
       "      <th>genre1_clocks, alarm clocks</th>\n",
       "      <th>genre1_clothes dryers</th>\n",
       "      <th>...</th>\n",
       "      <th>genre3_refrigerators</th>\n",
       "      <th>genre3_rice cookers</th>\n",
       "      <th>genre3_still cameras</th>\n",
       "      <th>genre3_telephones</th>\n",
       "      <th>genre3_toasters</th>\n",
       "      <th>genre3_trash compactors</th>\n",
       "      <th>genre3_video game consoles</th>\n",
       "      <th>genre3_waffle irons</th>\n",
       "      <th>genre3_washing machines</th>\n",
       "      <th>genre3_water heaters</th>\n",
       "    </tr>\n",
       "  </thead>\n",
       "  <tbody>\n",
       "    <tr>\n",
       "      <th>656548</th>\n",
       "      <td>0</td>\n",
       "      <td>0</td>\n",
       "      <td>0</td>\n",
       "      <td>0</td>\n",
       "      <td>0</td>\n",
       "      <td>0</td>\n",
       "      <td>0</td>\n",
       "      <td>0</td>\n",
       "      <td>0</td>\n",
       "      <td>0</td>\n",
       "      <td>...</td>\n",
       "      <td>0</td>\n",
       "      <td>0</td>\n",
       "      <td>0</td>\n",
       "      <td>0</td>\n",
       "      <td>0</td>\n",
       "      <td>0</td>\n",
       "      <td>0</td>\n",
       "      <td>0</td>\n",
       "      <td>0</td>\n",
       "      <td>1</td>\n",
       "    </tr>\n",
       "    <tr>\n",
       "      <th>505738</th>\n",
       "      <td>0</td>\n",
       "      <td>0</td>\n",
       "      <td>0</td>\n",
       "      <td>0</td>\n",
       "      <td>0</td>\n",
       "      <td>0</td>\n",
       "      <td>0</td>\n",
       "      <td>0</td>\n",
       "      <td>0</td>\n",
       "      <td>0</td>\n",
       "      <td>...</td>\n",
       "      <td>0</td>\n",
       "      <td>0</td>\n",
       "      <td>0</td>\n",
       "      <td>0</td>\n",
       "      <td>0</td>\n",
       "      <td>0</td>\n",
       "      <td>0</td>\n",
       "      <td>0</td>\n",
       "      <td>0</td>\n",
       "      <td>0</td>\n",
       "    </tr>\n",
       "    <tr>\n",
       "      <th>66360</th>\n",
       "      <td>0</td>\n",
       "      <td>0</td>\n",
       "      <td>0</td>\n",
       "      <td>0</td>\n",
       "      <td>0</td>\n",
       "      <td>0</td>\n",
       "      <td>0</td>\n",
       "      <td>0</td>\n",
       "      <td>0</td>\n",
       "      <td>0</td>\n",
       "      <td>...</td>\n",
       "      <td>0</td>\n",
       "      <td>0</td>\n",
       "      <td>0</td>\n",
       "      <td>0</td>\n",
       "      <td>0</td>\n",
       "      <td>0</td>\n",
       "      <td>0</td>\n",
       "      <td>0</td>\n",
       "      <td>0</td>\n",
       "      <td>0</td>\n",
       "    </tr>\n",
       "    <tr>\n",
       "      <th>420045</th>\n",
       "      <td>0</td>\n",
       "      <td>0</td>\n",
       "      <td>0</td>\n",
       "      <td>0</td>\n",
       "      <td>0</td>\n",
       "      <td>0</td>\n",
       "      <td>0</td>\n",
       "      <td>0</td>\n",
       "      <td>0</td>\n",
       "      <td>0</td>\n",
       "      <td>...</td>\n",
       "      <td>0</td>\n",
       "      <td>0</td>\n",
       "      <td>0</td>\n",
       "      <td>0</td>\n",
       "      <td>0</td>\n",
       "      <td>0</td>\n",
       "      <td>0</td>\n",
       "      <td>0</td>\n",
       "      <td>1</td>\n",
       "      <td>0</td>\n",
       "    </tr>\n",
       "    <tr>\n",
       "      <th>368541</th>\n",
       "      <td>0</td>\n",
       "      <td>0</td>\n",
       "      <td>0</td>\n",
       "      <td>0</td>\n",
       "      <td>0</td>\n",
       "      <td>0</td>\n",
       "      <td>0</td>\n",
       "      <td>0</td>\n",
       "      <td>0</td>\n",
       "      <td>0</td>\n",
       "      <td>...</td>\n",
       "      <td>0</td>\n",
       "      <td>0</td>\n",
       "      <td>0</td>\n",
       "      <td>0</td>\n",
       "      <td>0</td>\n",
       "      <td>0</td>\n",
       "      <td>0</td>\n",
       "      <td>0</td>\n",
       "      <td>0</td>\n",
       "      <td>0</td>\n",
       "    </tr>\n",
       "  </tbody>\n",
       "</table>\n",
       "<p>5 rows × 126 columns</p>\n",
       "</div>"
      ],
      "text/plain": [
       "        genre1_CD  genre1_DVD players  genre1_HiFi  genre1_TV sets  \\\n",
       "656548          0                   0            0               0   \n",
       "505738          0                   0            0               0   \n",
       "66360           0                   0            0               0   \n",
       "420045          0                   0            0               0   \n",
       "368541          0                   0            0               0   \n",
       "\n",
       "        genre1_air conditioners  genre1_answering machines  genre1_blenders  \\\n",
       "656548                        0                          0                0   \n",
       "505738                        0                          0                0   \n",
       "66360                         0                          0                0   \n",
       "420045                        0                          0                0   \n",
       "368541                        0                          0                0   \n",
       "\n",
       "        genre1_camcorders  genre1_clocks, alarm clocks  genre1_clothes dryers  \\\n",
       "656548                  0                            0                      0   \n",
       "505738                  0                            0                      0   \n",
       "66360                   0                            0                      0   \n",
       "420045                  0                            0                      0   \n",
       "368541                  0                            0                      0   \n",
       "\n",
       "        ...  genre3_refrigerators  genre3_rice cookers  genre3_still cameras  \\\n",
       "656548  ...                     0                    0                     0   \n",
       "505738  ...                     0                    0                     0   \n",
       "66360   ...                     0                    0                     0   \n",
       "420045  ...                     0                    0                     0   \n",
       "368541  ...                     0                    0                     0   \n",
       "\n",
       "        genre3_telephones  genre3_toasters  genre3_trash compactors  \\\n",
       "656548                  0                0                        0   \n",
       "505738                  0                0                        0   \n",
       "66360                   0                0                        0   \n",
       "420045                  0                0                        0   \n",
       "368541                  0                0                        0   \n",
       "\n",
       "        genre3_video game consoles  genre3_waffle irons  \\\n",
       "656548                           0                    0   \n",
       "505738                           0                    0   \n",
       "66360                            0                    0   \n",
       "420045                           0                    0   \n",
       "368541                           0                    0   \n",
       "\n",
       "        genre3_washing machines  genre3_water heaters  \n",
       "656548                        0                     1  \n",
       "505738                        0                     0  \n",
       "66360                         0                     0  \n",
       "420045                        1                     0  \n",
       "368541                        0                     0  \n",
       "\n",
       "[5 rows x 126 columns]"
      ]
     },
     "execution_count": 30,
     "metadata": {},
     "output_type": "execute_result"
    }
   ],
   "source": [
    "data2=pd.get_dummies(data2)\n",
    "data2.head()"
   ]
  },
  {
   "cell_type": "code",
   "execution_count": 31,
   "metadata": {},
   "outputs": [],
   "source": [
    "from sklearn.neighbors import NearestNeighbors"
   ]
  },
  {
   "cell_type": "code",
   "execution_count": 32,
   "metadata": {},
   "outputs": [
    {
     "data": {
      "text/plain": [
       "NearestNeighbors(metric='cosine')"
      ]
     },
     "execution_count": 32,
     "metadata": {},
     "output_type": "execute_result"
    }
   ],
   "source": [
    "rc_model=NearestNeighbors(metric='cosine')\n",
    "rc_model.fit(data2)"
   ]
  },
  {
   "cell_type": "code",
   "execution_count": 33,
   "metadata": {},
   "outputs": [],
   "source": [
    "#recommendation for user id 986754"
   ]
  },
  {
   "cell_type": "code",
   "execution_count": 34,
   "metadata": {},
   "outputs": [
    {
     "data": {
      "text/plain": [
       "genre1_CD                     0\n",
       "genre1_DVD players            0\n",
       "genre1_HiFi                   0\n",
       "genre1_TV sets                0\n",
       "genre1_air conditioners       0\n",
       "                             ..\n",
       "genre3_trash compactors       0\n",
       "genre3_video game consoles    0\n",
       "genre3_waffle irons           0\n",
       "genre3_washing machines       0\n",
       "genre3_water heaters          0\n",
       "Name: 66360, Length: 126, dtype: uint8"
      ]
     },
     "execution_count": 34,
     "metadata": {},
     "output_type": "execute_result"
    }
   ],
   "source": [
    "data2.iloc[2,:]#rows values for the user id 986754"
   ]
  },
  {
   "cell_type": "code",
   "execution_count": 35,
   "metadata": {},
   "outputs": [],
   "source": [
    "#data2.iloc[2,:].values.reshape(1,-1)"
   ]
  },
  {
   "cell_type": "code",
   "execution_count": 54,
   "metadata": {},
   "outputs": [],
   "source": [
    "dis1,ind1=rc_model.kneighbors(X=data2.iloc[2,:].values.reshape(1,-1),n_neighbors=15)"
   ]
  },
  {
   "cell_type": "code",
   "execution_count": 55,
   "metadata": {},
   "outputs": [
    {
     "data": {
      "text/plain": [
       "array([[0.        , 0.        , 0.33333333, 0.33333333, 0.33333333,\n",
       "        0.33333333, 0.66666667, 0.66666667, 0.66666667, 0.66666667,\n",
       "        0.66666667, 0.66666667, 0.66666667, 0.66666667, 0.66666667]])"
      ]
     },
     "execution_count": 55,
     "metadata": {},
     "output_type": "execute_result"
    }
   ],
   "source": [
    "dis1"
   ]
  },
  {
   "cell_type": "code",
   "execution_count": 56,
   "metadata": {},
   "outputs": [
    {
     "data": {
      "text/plain": [
       "array([[   2,  213,  514,  487, 1766, 1341, 1769, 1322, 1562,  121, 1767,\n",
       "         937, 1880, 1872, 1327]], dtype=int64)"
      ]
     },
     "execution_count": 56,
     "metadata": {},
     "output_type": "execute_result"
    }
   ],
   "source": [
    "ind1"
   ]
  },
  {
   "cell_type": "code",
   "execution_count": 57,
   "metadata": {},
   "outputs": [
    {
     "data": {
      "text/plain": [
       "Int64Index([ 986754,  878615,  270304, 1017981,  235985,  732639,  559836,\n",
       "             789220,  135024,  223773,  842773,  438498,  280142,  222809,\n",
       "             395756],\n",
       "           dtype='int64')"
      ]
     },
     "execution_count": 57,
     "metadata": {},
     "output_type": "execute_result"
    }
   ],
   "source": [
    "data2.index[ind1[0]]"
   ]
  },
  {
   "cell_type": "code",
   "execution_count": 59,
   "metadata": {},
   "outputs": [
    {
     "data": {
      "text/plain": [
       "genre1_CD                     0\n",
       "genre1_DVD players            1\n",
       "genre1_HiFi                   0\n",
       "genre1_TV sets                0\n",
       "genre1_air conditioners       0\n",
       "                             ..\n",
       "genre3_trash compactors       0\n",
       "genre3_video game consoles    0\n",
       "genre3_waffle irons           0\n",
       "genre3_washing machines       0\n",
       "genre3_water heaters          0\n",
       "Name: 270304, Length: 126, dtype: uint8"
      ]
     },
     "execution_count": 59,
     "metadata": {},
     "output_type": "execute_result"
    }
   ],
   "source": [
    "data2.iloc[514,:]#recomendated generes"
   ]
  },
  {
   "cell_type": "code",
   "execution_count": null,
   "metadata": {},
   "outputs": [],
   "source": [
    "#-----------------------------------------------------END----------------------------------------------------#"
   ]
  }
 ],
 "metadata": {
  "kernelspec": {
   "display_name": "Python 3",
   "language": "python",
   "name": "python3"
  },
  "language_info": {
   "codemirror_mode": {
    "name": "ipython",
    "version": 3
   },
   "file_extension": ".py",
   "mimetype": "text/x-python",
   "name": "python",
   "nbconvert_exporter": "python",
   "pygments_lexer": "ipython3",
   "version": "3.8.5"
  }
 },
 "nbformat": 4,
 "nbformat_minor": 4
}
